{
 "cells": [
  {
   "cell_type": "code",
   "id": "initial_id",
   "metadata": {
    "collapsed": true,
    "ExecuteTime": {
     "end_time": "2024-07-16T02:13:07.693107Z",
     "start_time": "2024-07-16T02:12:58.858116Z"
    }
   },
   "source": [
    "# This is a new library compared to the previous modules. \n",
    "# Please perform \"pip install sentence_transformers==2.7.0\"\n",
    "from sentence_transformers import SentenceTransformer\n",
    "\n",
    "# if you get an error do the following:\n",
    "# 1. Uninstall numpy \n",
    "# 2. Uninstall torch\n",
    "# 3. pip install numpy==1.26.4\n",
    "# 4. pip install torch\n",
    "# run the above cell, it should work\n",
    "model = SentenceTransformer(\"multi-qa-distilbert-cos-v1\")"
   ],
   "outputs": [],
   "execution_count": 1
  },
  {
   "metadata": {
    "ExecuteTime": {
     "end_time": "2024-07-16T02:13:10.820334Z",
     "start_time": "2024-07-16T02:13:07.697759Z"
    }
   },
   "cell_type": "code",
   "source": [
    "user_question = \"I just discovered the course. Can I still join it?\"\n",
    "\n",
    "query_embed_1 = model.encode(user_question)"
   ],
   "id": "58bbceacaec7f793",
   "outputs": [],
   "execution_count": 2
  },
  {
   "metadata": {
    "ExecuteTime": {
     "end_time": "2024-07-16T02:13:11.575715Z",
     "start_time": "2024-07-16T02:13:10.821886Z"
    }
   },
   "cell_type": "code",
   "source": [
    "import requests \n",
    "\n",
    "base_url = 'https://github.com/DataTalksClub/llm-zoomcamp/blob/main'\n",
    "relative_url = '03-vector-search/eval/documents-with-ids.json'\n",
    "docs_url = f'{base_url}/{relative_url}?raw=1'\n",
    "docs_response = requests.get(docs_url)\n",
    "documents = docs_response.json()"
   ],
   "id": "aefee3192836936f",
   "outputs": [],
   "execution_count": 3
  },
  {
   "metadata": {
    "ExecuteTime": {
     "end_time": "2024-07-16T02:13:11.583569Z",
     "start_time": "2024-07-16T02:13:11.579842Z"
    }
   },
   "cell_type": "code",
   "source": [
    "filtered_documents = []\n",
    "\n",
    "for doc in documents:\n",
    "    if doc[\"course\"] == \"machine-learning-zoomcamp\":\n",
    "        filtered_documents.append(doc)"
   ],
   "id": "30a88fc3fd1cda94",
   "outputs": [],
   "execution_count": 4
  },
  {
   "metadata": {
    "ExecuteTime": {
     "end_time": "2024-07-16T02:14:44.644471Z",
     "start_time": "2024-07-16T02:13:11.586Z"
    }
   },
   "cell_type": "code",
   "source": [
    "embed_list = []\n",
    "\n",
    "for doc in filtered_documents:\n",
    "    question = doc[\"question\"]\n",
    "    text = doc[\"text\"]\n",
    "    qa_text = f\"{question}: {text}\"\n",
    "    embed_list.append(model.encode(qa_text))"
   ],
   "id": "45e95d06e454646f",
   "outputs": [],
   "execution_count": 5
  },
  {
   "metadata": {
    "ExecuteTime": {
     "end_time": "2024-07-16T02:14:44.658884Z",
     "start_time": "2024-07-16T02:14:44.646322Z"
    }
   },
   "cell_type": "code",
   "source": [
    "import numpy as np\n",
    "\n",
    "X = np.array(embed_list)\n",
    "X.shape"
   ],
   "id": "3b4a9a8dbdfdf3ad",
   "outputs": [
    {
     "data": {
      "text/plain": [
       "(375, 768)"
      ]
     },
     "execution_count": 6,
     "metadata": {},
     "output_type": "execute_result"
    }
   ],
   "execution_count": 6
  },
  {
   "metadata": {
    "ExecuteTime": {
     "end_time": "2024-07-16T02:14:44.666469Z",
     "start_time": "2024-07-16T02:14:44.660591Z"
    }
   },
   "cell_type": "code",
   "source": "X[0,:].dot(X[0,:])",
   "id": "9bbb345a07f92aa1",
   "outputs": [
    {
     "data": {
      "text/plain": [
       "0.9999999"
      ]
     },
     "execution_count": 7,
     "metadata": {},
     "output_type": "execute_result"
    }
   ],
   "execution_count": 7
  },
  {
   "metadata": {
    "ExecuteTime": {
     "end_time": "2024-07-16T02:14:44.673596Z",
     "start_time": "2024-07-16T02:14:44.669463Z"
    }
   },
   "cell_type": "code",
   "source": "scores = X.dot(query_embed_1)",
   "id": "5d4ac99c185b925f",
   "outputs": [],
   "execution_count": 8
  },
  {
   "metadata": {
    "ExecuteTime": {
     "end_time": "2024-07-16T02:14:44.682692Z",
     "start_time": "2024-07-16T02:14:44.676377Z"
    }
   },
   "cell_type": "code",
   "source": "max(scores)",
   "id": "f49c88724c09d504",
   "outputs": [
    {
     "data": {
      "text/plain": [
       "0.65120065"
      ]
     },
     "execution_count": 9,
     "metadata": {},
     "output_type": "execute_result"
    }
   ],
   "execution_count": 9
  },
  {
   "metadata": {
    "ExecuteTime": {
     "end_time": "2024-07-16T02:14:44.696153Z",
     "start_time": "2024-07-16T02:14:44.690135Z"
    }
   },
   "cell_type": "code",
   "source": [
    "class VectorSearchEngine():\n",
    "    def __init__(self, documents, embeddings):\n",
    "        self.documents = documents\n",
    "        self.embeddings = embeddings\n",
    "\n",
    "    def search(self, v_query, num_results=10):\n",
    "        scores = self.embeddings.dot(v_query)\n",
    "        idx = np.argsort(-scores)[:num_results]\n",
    "        return [self.documents[i] for i in idx]\n",
    "\n",
    "search_engine = VectorSearchEngine(documents=filtered_documents, embeddings=X)\n",
    "results = search_engine.search(query_embed_1, num_results=5)"
   ],
   "id": "9a015f2603a9e949",
   "outputs": [],
   "execution_count": 10
  },
  {
   "metadata": {
    "ExecuteTime": {
     "end_time": "2024-07-16T02:14:46.530068Z",
     "start_time": "2024-07-16T02:14:44.701135Z"
    }
   },
   "cell_type": "code",
   "source": [
    "import pandas as pd\n",
    "\n",
    "base_url = 'https://github.com/DataTalksClub/llm-zoomcamp/blob/main'\n",
    "relative_url = '03-vector-search/eval/ground-truth-data.csv'\n",
    "ground_truth_url = f'{base_url}/{relative_url}?raw=1'\n",
    "\n",
    "df_ground_truth = pd.read_csv(ground_truth_url)\n",
    "df_ground_truth = df_ground_truth[df_ground_truth.course == 'machine-learning-zoomcamp']\n",
    "ground_truth = df_ground_truth.to_dict(orient='records')"
   ],
   "id": "e78f6bf6fdc045ef",
   "outputs": [],
   "execution_count": 11
  },
  {
   "metadata": {
    "ExecuteTime": {
     "end_time": "2024-07-16T02:14:46.535856Z",
     "start_time": "2024-07-16T02:14:46.532049Z"
    }
   },
   "cell_type": "code",
   "source": [
    "def hit_rate(relevance_total):\n",
    "    cnt = 0\n",
    "\n",
    "    for line in relevance_total:\n",
    "        if True in line:\n",
    "            cnt = cnt + 1\n",
    "\n",
    "    return cnt / len(relevance_total)"
   ],
   "id": "9fb9008c50d414f5",
   "outputs": [],
   "execution_count": 12
  },
  {
   "metadata": {
    "ExecuteTime": {
     "end_time": "2024-07-16T02:14:46.541759Z",
     "start_time": "2024-07-16T02:14:46.537705Z"
    }
   },
   "cell_type": "code",
   "source": [
    "def mrr(relevance_total):\n",
    "    total_score = 0.0\n",
    "\n",
    "    for line in relevance_total:\n",
    "        for rank in range(len(line)):\n",
    "            if line[rank] == True:\n",
    "                total_score = total_score + 1 / (rank + 1)\n",
    "\n",
    "    return total_score / len(relevance_total)"
   ],
   "id": "74c7410535301cec",
   "outputs": [],
   "execution_count": 13
  },
  {
   "metadata": {
    "ExecuteTime": {
     "end_time": "2024-07-16T02:14:46.547582Z",
     "start_time": "2024-07-16T02:14:46.544055Z"
    }
   },
   "cell_type": "code",
   "source": "from tqdm.auto import tqdm",
   "id": "306da5788f4c80f1",
   "outputs": [],
   "execution_count": 14
  },
  {
   "metadata": {
    "ExecuteTime": {
     "end_time": "2024-07-16T02:14:46.554378Z",
     "start_time": "2024-07-16T02:14:46.549875Z"
    }
   },
   "cell_type": "code",
   "source": [
    "def evaluate(ground_truth, search_function):\n",
    "    relevance_total = []\n",
    "\n",
    "    for q in tqdm(ground_truth):\n",
    "        doc_id = q['document']\n",
    "        results = search_function(q)\n",
    "        relevance = [d['id'] == doc_id for d in results]\n",
    "        relevance_total.append(relevance)\n",
    "\n",
    "    return {\n",
    "        'hit_rate': hit_rate(relevance_total),\n",
    "        'mrr': mrr(relevance_total),\n",
    "    }"
   ],
   "id": "e97d1278c2f1c7dd",
   "outputs": [],
   "execution_count": 15
  },
  {
   "metadata": {
    "ExecuteTime": {
     "end_time": "2024-07-16T02:14:46.560324Z",
     "start_time": "2024-07-16T02:14:46.556753Z"
    }
   },
   "cell_type": "code",
   "source": [
    "def question_vector(q):\n",
    "    question = q['question']\n",
    "\n",
    "    query_embed = model.encode(question)\n",
    "\n",
    "    return search_engine.search(query_embed, num_results=5)"
   ],
   "id": "a8924882a5fc1086",
   "outputs": [],
   "execution_count": 16
  },
  {
   "metadata": {
    "ExecuteTime": {
     "end_time": "2024-07-16T02:16:16.538513Z",
     "start_time": "2024-07-16T02:14:46.564182Z"
    }
   },
   "cell_type": "code",
   "source": "evaluate(ground_truth, question_vector)",
   "id": "b394c89fbd6b211a",
   "outputs": [
    {
     "data": {
      "text/plain": [
       "  0%|          | 0/1830 [00:00<?, ?it/s]"
      ],
      "application/vnd.jupyter.widget-view+json": {
       "version_major": 2,
       "version_minor": 0,
       "model_id": "8e78ba169c7245dbbd829aa2c53f91e0"
      }
     },
     "metadata": {},
     "output_type": "display_data"
    },
    {
     "data": {
      "text/plain": [
       "{'hit_rate': 0.9415300546448088, 'mrr': 0.8523679417122041}"
      ]
     },
     "execution_count": 17,
     "metadata": {},
     "output_type": "execute_result"
    }
   ],
   "execution_count": 17
  },
  {
   "metadata": {
    "ExecuteTime": {
     "end_time": "2024-07-16T02:23:48.957290Z",
     "start_time": "2024-07-16T02:23:48.581428Z"
    }
   },
   "cell_type": "code",
   "source": [
    "from elasticsearch import Elasticsearch\n",
    "\n",
    "es_client = Elasticsearch('http://localhost:9200') \n",
    "\n",
    "index_settings = {\n",
    "    \"settings\": {\n",
    "        \"number_of_shards\": 1,\n",
    "        \"number_of_replicas\": 0\n",
    "    },\n",
    "    \"mappings\": {\n",
    "        \"properties\": {\n",
    "            \"text\": {\"type\": \"text\"},\n",
    "            \"section\": {\"type\": \"text\"},\n",
    "            \"question\": {\"type\": \"text\"},\n",
    "            \"course\": {\"type\": \"keyword\"},\n",
    "            \"id\": {\"type\": \"keyword\"},\n",
    "            # \"question_vector\": {\n",
    "            #     \"type\": \"dense_vector\",\n",
    "            #     \"dims\": 768,\n",
    "            #     \"index\": True,\n",
    "            #     \"similarity\": \"cosine\"\n",
    "            # },\n",
    "            # \"text_vector\": {\n",
    "            #     \"type\": \"dense_vector\",\n",
    "            #     \"dims\": 768,\n",
    "            #     \"index\": True,\n",
    "            #     \"similarity\": \"cosine\"\n",
    "            # },\n",
    "            \"question_text_vector\": {\n",
    "                \"type\": \"dense_vector\",\n",
    "                \"dims\": 768,\n",
    "                \"index\": True,\n",
    "                \"similarity\": \"cosine\"\n",
    "            },\n",
    "        }\n",
    "    }\n",
    "}\n",
    "\n",
    "index_name = \"course-questions\"\n",
    "\n",
    "es_client.indices.delete(index=index_name, ignore_unavailable=True)\n",
    "es_client.indices.create(index=index_name, body=index_settings)"
   ],
   "id": "448e7ea16f90dd54",
   "outputs": [
    {
     "data": {
      "text/plain": [
       "ObjectApiResponse({'acknowledged': True, 'shards_acknowledged': True, 'index': 'course-questions'})"
      ]
     },
     "execution_count": 28,
     "metadata": {},
     "output_type": "execute_result"
    }
   ],
   "execution_count": 28
  },
  {
   "metadata": {
    "ExecuteTime": {
     "end_time": "2024-07-16T02:23:48.574382Z",
     "start_time": "2024-07-16T02:22:29.538693Z"
    }
   },
   "cell_type": "code",
   "source": [
    "for doc in tqdm(filtered_documents):\n",
    "    question = doc['question']\n",
    "    text = doc['text']\n",
    "    qt = question + ' ' + text\n",
    "\n",
    "    doc['question_text_vector'] = model.encode(qt)"
   ],
   "id": "59c6354cf737042d",
   "outputs": [
    {
     "data": {
      "text/plain": [
       "  0%|          | 0/375 [00:00<?, ?it/s]"
      ],
      "application/vnd.jupyter.widget-view+json": {
       "version_major": 2,
       "version_minor": 0,
       "model_id": "50045621fe724bdb8782d8726c8e013e"
      }
     },
     "metadata": {},
     "output_type": "display_data"
    }
   ],
   "execution_count": 27
  },
  {
   "metadata": {
    "ExecuteTime": {
     "end_time": "2024-07-16T02:23:52.284471Z",
     "start_time": "2024-07-16T02:23:48.958707Z"
    }
   },
   "cell_type": "code",
   "source": [
    "for doc in tqdm(filtered_documents):\n",
    "    es_client.index(index=index_name, document=doc)"
   ],
   "id": "d61286f4a69ca7c7",
   "outputs": [
    {
     "data": {
      "text/plain": [
       "  0%|          | 0/375 [00:00<?, ?it/s]"
      ],
      "application/vnd.jupyter.widget-view+json": {
       "version_major": 2,
       "version_minor": 0,
       "model_id": "0b0cec4a133a4670a4619e092717275b"
      }
     },
     "metadata": {},
     "output_type": "display_data"
    }
   ],
   "execution_count": 29
  },
  {
   "metadata": {
    "ExecuteTime": {
     "end_time": "2024-07-16T02:16:42.792656Z",
     "start_time": "2024-07-16T02:16:42.714207Z"
    }
   },
   "cell_type": "code",
   "source": [
    "knn = {\n",
    "        \"field\": 'question_text_vector',\n",
    "        \"query_vector\": query_embed_1,\n",
    "        \"k\": 5,\n",
    "        \"num_candidates\": 10000,\n",
    "        # \"filter\": {\n",
    "        #     \"term\": {\n",
    "        #         \"course\": course\n",
    "        #     }\n",
    "        # }\n",
    "    }\n",
    "\n",
    "search_query = {\n",
    "    \"knn\": knn,\n",
    "    \"_source\": [\"text\", \"section\", \"question\", \"course\", \"id\"]\n",
    "}\n",
    "\n",
    "es_results = es_client.search(\n",
    "    index=index_name,\n",
    "    body=search_query\n",
    ")\n",
    "\n",
    "result_docs = []\n",
    "\n",
    "for hit in es_results['hits']['hits']:\n",
    "    result_docs.append(hit['_source'])"
   ],
   "id": "4f31d3df408665fe",
   "outputs": [],
   "execution_count": 21
  },
  {
   "metadata": {
    "ExecuteTime": {
     "end_time": "2024-07-16T02:23:52.309577Z",
     "start_time": "2024-07-16T02:23:52.293869Z"
    }
   },
   "cell_type": "code",
   "source": [
    "def elastic_search_knn(vector):\n",
    "    knn = {\n",
    "        \"field\": \"question_text_vector\",\n",
    "        \"query_vector\": vector,\n",
    "        \"k\": 5,\n",
    "        \"num_candidates\": 10000,\n",
    "        # \"filter\": {\n",
    "        #     \"term\": {\n",
    "        #         \"course\": course\n",
    "        #     }\n",
    "        # }\n",
    "    }\n",
    "\n",
    "    search_query = {\n",
    "        \"knn\": knn,\n",
    "        \"_source\": [\"text\", \"section\", \"question\", \"course\", \"id\"]\n",
    "    }\n",
    "\n",
    "    es_results = es_client.search(\n",
    "        index=index_name,\n",
    "        body=search_query\n",
    "    )\n",
    "    \n",
    "    result_docs = []\n",
    "    \n",
    "    for hit in es_results['hits']['hits']:\n",
    "        result_docs.append(hit['_source'])\n",
    "\n",
    "    return result_docs"
   ],
   "id": "8f727d5636d558fa",
   "outputs": [],
   "execution_count": 30
  },
  {
   "metadata": {
    "ExecuteTime": {
     "end_time": "2024-07-16T02:23:52.320368Z",
     "start_time": "2024-07-16T02:23:52.312061Z"
    }
   },
   "cell_type": "code",
   "source": [
    "def question_vector_knn(q):\n",
    "    question = q['question']\n",
    "\n",
    "    v_q = model.encode(question)\n",
    "\n",
    "    return elastic_search_knn(v_q)"
   ],
   "id": "87d3d43ef42ff2ad",
   "outputs": [],
   "execution_count": 31
  },
  {
   "metadata": {
    "ExecuteTime": {
     "end_time": "2024-07-16T02:25:38.716962Z",
     "start_time": "2024-07-16T02:23:52.323819Z"
    }
   },
   "cell_type": "code",
   "source": "evaluate(ground_truth, question_vector_knn)",
   "id": "9d2184c751c63e4a",
   "outputs": [
    {
     "data": {
      "text/plain": [
       "  0%|          | 0/1830 [00:00<?, ?it/s]"
      ],
      "application/vnd.jupyter.widget-view+json": {
       "version_major": 2,
       "version_minor": 0,
       "model_id": "33df8b8c22664c2397d3fcb4db970dfc"
      }
     },
     "metadata": {},
     "output_type": "display_data"
    },
    {
     "data": {
      "text/plain": [
       "{'hit_rate': 0.9404371584699454, 'mrr': 0.8517577413479053}"
      ]
     },
     "execution_count": 32,
     "metadata": {},
     "output_type": "execute_result"
    }
   ],
   "execution_count": 32
  },
  {
   "metadata": {},
   "cell_type": "code",
   "outputs": [],
   "execution_count": null,
   "source": "",
   "id": "bd9de1f15b88f5a5"
  }
 ],
 "metadata": {
  "kernelspec": {
   "display_name": "Python 3",
   "language": "python",
   "name": "python3"
  },
  "language_info": {
   "codemirror_mode": {
    "name": "ipython",
    "version": 2
   },
   "file_extension": ".py",
   "mimetype": "text/x-python",
   "name": "python",
   "nbconvert_exporter": "python",
   "pygments_lexer": "ipython2",
   "version": "2.7.6"
  }
 },
 "nbformat": 4,
 "nbformat_minor": 5
}
