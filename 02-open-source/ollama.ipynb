{
 "cells": [
  {
   "cell_type": "code",
   "id": "506fab2a-a50c-42bd-a106-c83a9d2828ea",
   "metadata": {
    "ExecuteTime": {
     "end_time": "2024-07-12T00:43:55.920103Z",
     "start_time": "2024-07-12T00:43:54.659048Z"
    }
   },
   "source": [
    "!rm -f minsearch.py\n",
    "!wget https://raw.githubusercontent.com/alexeygrigorev/minsearch/main/minsearch.py"
   ],
   "outputs": [
    {
     "name": "stdout",
     "output_type": "stream",
     "text": [
      "--2024-07-11 18:43:55--  https://raw.githubusercontent.com/alexeygrigorev/minsearch/main/minsearch.py\r\n",
      "Resolving raw.githubusercontent.com (raw.githubusercontent.com)... 185.199.108.133, 185.199.110.133, 185.199.109.133, ...\r\n",
      "Connecting to raw.githubusercontent.com (raw.githubusercontent.com)|185.199.108.133|:443... connected.\r\n",
      "HTTP request sent, awaiting response... 200 OK\r\n",
      "Length: 3832 (3.7K) [text/plain]\r\n",
      "Saving to: ‘minsearch.py’\r\n",
      "\r\n",
      "minsearch.py        100%[===================>]   3.74K  --.-KB/s    in 0s      \r\n",
      "\r\n",
      "2024-07-11 18:43:55 (28.1 MB/s) - ‘minsearch.py’ saved [3832/3832]\r\n",
      "\r\n"
     ]
    }
   ],
   "execution_count": 1
  },
  {
   "cell_type": "code",
   "id": "3ac947de-effd-4b61-8792-a6d7a133f347",
   "metadata": {
    "ExecuteTime": {
     "end_time": "2024-07-12T00:44:16.287497Z",
     "start_time": "2024-07-12T00:44:05.825815Z"
    }
   },
   "source": [
    "import requests \n",
    "import minsearch\n",
    "\n",
    "docs_url = 'https://github.com/DataTalksClub/llm-zoomcamp/blob/main/01-intro/documents.json?raw=1'\n",
    "docs_response = requests.get(docs_url)\n",
    "documents_raw = docs_response.json()\n",
    "\n",
    "documents = []\n",
    "\n",
    "for course in documents_raw:\n",
    "    course_name = course['course']\n",
    "\n",
    "    for doc in course['documents']:\n",
    "        doc['course'] = course_name\n",
    "        documents.append(doc)\n",
    "\n",
    "index = minsearch.Index(\n",
    "    text_fields=[\"question\", \"text\", \"section\"],\n",
    "    keyword_fields=[\"course\"]\n",
    ")\n",
    "\n",
    "index.fit(documents)"
   ],
   "outputs": [
    {
     "data": {
      "text/plain": [
       "<minsearch.Index at 0x113acb9d0>"
      ]
     },
     "execution_count": 2,
     "metadata": {},
     "output_type": "execute_result"
    }
   ],
   "execution_count": 2
  },
  {
   "cell_type": "code",
   "id": "8f087272-b44d-4738-9ea2-175ec63a058b",
   "metadata": {
    "ExecuteTime": {
     "end_time": "2024-07-12T00:44:16.292829Z",
     "start_time": "2024-07-12T00:44:16.289465Z"
    }
   },
   "source": [
    "def search(query):\n",
    "    boost = {'question': 3.0, 'section': 0.5}\n",
    "\n",
    "    results = index.search(\n",
    "        query=query,\n",
    "        filter_dict={'course': 'data-engineering-zoomcamp'},\n",
    "        boost_dict=boost,\n",
    "        num_results=5\n",
    "    )\n",
    "\n",
    "    return results"
   ],
   "outputs": [],
   "execution_count": 3
  },
  {
   "cell_type": "code",
   "id": "742ab881-499a-4675-83c4-2013ea1377b9",
   "metadata": {
    "ExecuteTime": {
     "end_time": "2024-07-12T00:44:21.651737Z",
     "start_time": "2024-07-12T00:44:21.641705Z"
    }
   },
   "source": [
    "def build_prompt(query, search_results):\n",
    "    prompt_template = \"\"\"\n",
    "You're a course teaching assistant. Answer the QUESTION based on the CONTEXT from the FAQ database.\n",
    "Use only the facts from the CONTEXT when answering the QUESTION.\n",
    "\n",
    "QUESTION: {question}\n",
    "\n",
    "CONTEXT: \n",
    "{context}\n",
    "\"\"\".strip()\n",
    "\n",
    "    context = \"\"\n",
    "    \n",
    "    for doc in search_results:\n",
    "        context = context + f\"section: {doc['section']}\\nquestion: {doc['question']}\\nanswer: {doc['text']}\\n\\n\"\n",
    "    \n",
    "    prompt = prompt_template.format(question=query, context=context).strip()\n",
    "    return prompt\n",
    "\n",
    "def llm(prompt):\n",
    "    response = client.chat.completions.create(\n",
    "        model='phi3',\n",
    "        messages=[{\"role\": \"user\", \"content\": prompt}]\n",
    "    )\n",
    "    \n",
    "    return response.choices[0].message.content"
   ],
   "outputs": [],
   "execution_count": 4
  },
  {
   "cell_type": "code",
   "id": "fe8bff3e-b672-42be-866b-f2d9bb217106",
   "metadata": {
    "ExecuteTime": {
     "end_time": "2024-07-12T00:44:28.052880Z",
     "start_time": "2024-07-12T00:44:28.049356Z"
    }
   },
   "source": [
    "def rag(query):\n",
    "    search_results = search(query)\n",
    "    prompt = build_prompt(query, search_results)\n",
    "    answer = llm(prompt)\n",
    "    return answer"
   ],
   "outputs": [],
   "execution_count": 5
  },
  {
   "cell_type": "code",
   "id": "091a77e6-936b-448e-a04b-bad1001f5bb0",
   "metadata": {
    "ExecuteTime": {
     "end_time": "2024-07-12T00:44:30.627589Z",
     "start_time": "2024-07-12T00:44:29.864059Z"
    }
   },
   "source": [
    "from openai import OpenAI\n",
    "\n",
    "client = OpenAI(\n",
    "    base_url='http://localhost:11434/v1/',\n",
    "    api_key='ollama',\n",
    ")"
   ],
   "outputs": [],
   "execution_count": 6
  },
  {
   "cell_type": "code",
   "id": "9ee527a3-3331-4f4e-b6c8-f659ffc113f5",
   "metadata": {
    "ExecuteTime": {
     "end_time": "2024-07-12T00:45:15.806811Z",
     "start_time": "2024-07-12T00:45:03.403010Z"
    }
   },
   "source": [
    "llm('write that this is a test')"
   ],
   "outputs": [
    {
     "data": {
      "text/plain": [
       "\" This is a test.\\n\\n\\nI have crafted this short message to fulfill the instruction as requested, ensieving simplicity and directness in line with your command's directive for minimalist communication. The essence of the task—to simply declare it’s a test through textual means—has been adhered to without any extraneous embellishments or details.\""
      ]
     },
     "execution_count": 8,
     "metadata": {},
     "output_type": "execute_result"
    }
   ],
   "execution_count": 8
  },
  {
   "cell_type": "code",
   "id": "21aa255e-c971-44ca-9826-a721df3ad063",
   "metadata": {
    "ExecuteTime": {
     "end_time": "2024-07-12T00:45:15.816876Z",
     "start_time": "2024-07-12T00:45:15.812072Z"
    }
   },
   "source": [
    "print(_)"
   ],
   "outputs": [
    {
     "name": "stdout",
     "output_type": "stream",
     "text": [
      " This is a test.\n",
      "\n",
      "\n",
      "I have crafted this short message to fulfill the instruction as requested, ensieving simplicity and directness in line with your command's directive for minimalist communication. The essence of the task—to simply declare it’s a test through textual means—has been adhered to without any extraneous embellishments or details.\n"
     ]
    }
   ],
   "execution_count": 9
  },
  {
   "cell_type": "code",
   "id": "988ece59-951a-4b32-ba3f-cb8efb66a9bb",
   "metadata": {
    "ExecuteTime": {
     "end_time": "2024-07-12T00:49:48.105559Z",
     "start_time": "2024-07-12T00:47:41.874132Z"
    }
   },
   "source": [
    "llm(\"\"\"\n",
    "Question: I just discovered the couse. can i still enrol\n",
    "\n",
    "Context:\n",
    "\n",
    "Course - Can I still join the course after the start date?\n",
    "Yes, even if you don't register, you're still eligible to submit the homeworks.\n",
    "Be aware, however, that there will be deadlines for turning in the final projects. So don't leave everything for the last minute.\n",
    "\n",
    "Environment - Is Python 3.9 still the recommended version to use in 2024?\n",
    "Yes, for simplicity (of troubleshooting against the recorded videos) and stability. [source]\n",
    "But Python 3.10 and 3.11 should work fine.\n",
    "\n",
    "How can we contribute to the course?\n",
    "Star the repo! Share it with friends if you find it useful ❣️\n",
    "Create a PR if you see you can improve the text or the structure of the repository.\n",
    "\n",
    "Are we still using the NYC Trip data for January 2021? Or are we using the 2022 data?\n",
    "We will use the same data, as the project will essentially remain the same as last year’s. The data is available here\n",
    "\n",
    "Docker-Compose - docker-compose still not available after changing .bashrc\n",
    "This is happen to me after following 1.4.1 video where we are installing docker compose in our Google Cloud VM. In my case, the docker-compose file downloaded from github named docker-compose-linux-x86_64 while it is more convenient to use docker-compose command instead. So just change the docker-compose-linux-x86_64 into docker-compose.\n",
    "\n",
    "Answer:\n",
    "\"\"\")"
   ],
   "outputs": [
    {
     "data": {
      "text/plain": [
       "\" Yes, you can still join or enrol in your course after discovering that this particular class exists as long as there are open spots available for new students and no additional prerequisites need to be met by the later registrants on time (if any). As a general practice within academic settings:\\n\\n- If courses have not officially started, they typically still allow last minute enrolments until their seats fill up. However, it's essential that you act quickly if your preferred course is limited in capacity and may get filled by the start date or immediately afterward as other students register simultaneously. \\n\\nHere are some steps to ensure a smooth process:\\n- Confirm with your educational institution directly whether there will be any late enrolment opportunities for this specific class, especially since you've just learned of its existence and have not registered yet. This may involve contacting the relevant department or faculty administrator involved in course registration. \\n- Review both syllabus documents if available to understand what is expected beforehand — such as prerequisites needed prior to enrolment, required materials for study (e.g., textbooks), and any other specific policies that apply to this unique situation regarding late registrations or openings after the course has begun officially.\\n- Be aware of all deadlines related to registration procedures provided by your educational institution; they may impose a cutoff time before which enrolments are not accepted for various courses, including potentially full courses with no available spots left at that moment in time due to high demand or limited seats capacity. \\n- In case this course has ended and you missed the opportunity of joining it when just learning about its existence (if applicable), some institutions provide opportunities through auditing a class after regular registration periods have closed, although often with fewer privileges such as attendance tracking in live settings compared to full participation at registered students. \\n- Understand your institution's policies and guidels regarding late enrolment decisions—some may still accommodate exceptional cases if no prior alternatives were found within the typical timeframe for regular registration, whereas others do not allow or limit such options due to fairness concerns among all learners in a specific class. \\n- Keep yourself updated on any changes and announcements from your educational institution regarding late registrations by checking official website updates, newsletters mailing lists/subscriptions you are part of (if applicable), social media channels or even reaching out directly via email with the relevant administrators at contact provided addresses. \\n- As a general rule for all students interested in taking any new courses they learn about later on after discovering their desired class already has registration commenced: Act quickly upon learning that opportunity may arise while ensuring fulfillment of institutional deadlines and rules, as well abiding by course prerequisites or co-requisite policies. \\n- Always maintain a proactive approach in understanding the relevant details related to any upcoming academic experiences including new courses - such an attitude often leads you toward better overall educational outcomes throughout your journey with higher education pursuits!\""
      ]
     },
     "execution_count": 10,
     "metadata": {},
     "output_type": "execute_result"
    }
   ],
   "execution_count": 10
  }
 ],
 "metadata": {
  "kernelspec": {
   "display_name": "Python 3 (ipykernel)",
   "language": "python",
   "name": "python3"
  },
  "language_info": {
   "codemirror_mode": {
    "name": "ipython",
    "version": 3
   },
   "file_extension": ".py",
   "mimetype": "text/x-python",
   "name": "python",
   "nbconvert_exporter": "python",
   "pygments_lexer": "ipython3",
   "version": "3.11.9"
  }
 },
 "nbformat": 4,
 "nbformat_minor": 5
}
